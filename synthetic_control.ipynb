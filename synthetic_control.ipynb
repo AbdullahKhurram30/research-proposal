{
 "cells": [
  {
   "cell_type": "code",
   "execution_count": 37,
   "metadata": {
    "vscode": {
     "languageId": "r"
    }
   },
   "outputs": [],
   "source": [
    "library(Synth)"
   ]
  },
  {
   "cell_type": "code",
   "execution_count": 38,
   "metadata": {
    "vscode": {
     "languageId": "r"
    }
   },
   "outputs": [
    {
     "data": {
      "text/html": [
       "<table>\n",
       "<thead><tr><th scope=col>id</th><th scope=col>country</th><th scope=col>year</th><th scope=col>gdp_per_capita</th><th scope=col>million_population</th><th scope=col>cpi</th><th scope=col>exchange_rate</th><th scope=col>land_area</th><th scope=col>tourism_expenditure</th><th scope=col>exports_percentage</th><th scope=col>labor_force</th><th scope=col>national_expenditure</th><th scope=col>capital_formulation</th><th scope=col>cfp</th><th scope=col>adj_national_income</th><th scope=col>trade_percentage</th><th scope=col>unemployment</th><th scope=col>urban_pop_percentage</th><th scope=col>urban_pop</th></tr></thead>\n",
       "<tbody>\n",
       "\t<tr><td>1        </td><td>Argentina</td><td>1986     </td><td>3607.821 </td><td>30.75760 </td><td>-0.1     </td><td>0.000094 </td><td>2736690  </td><td> 9.738351</td><td> 8.161978</td><td> 1281793 </td><td>98.16208 </td><td>5.20e+10 </td><td>17.46176 </td><td>9.75e+10 </td><td>14.48603 </td><td>3.80     </td><td>85.445   </td><td>26272907 </td></tr>\n",
       "\t<tr><td>1        </td><td>Argentina</td><td>1987     </td><td>3559.219 </td><td>31.21467 </td><td> 0.8     </td><td>0.000214 </td><td>2736690  </td><td>11.651680</td><td> 7.873206</td><td>13075206 </td><td>99.70256 </td><td>5.18e+10 </td><td>19.55487 </td><td>9.69e+10 </td><td>15.44897 </td><td>4.68     </td><td>85.843   </td><td>26797140 </td></tr>\n",
       "\t<tr><td>1        </td><td>Argentina</td><td>1988     </td><td>3982.444 </td><td>31.67315 </td><td> 0.3     </td><td>0.000875 </td><td>2736690  </td><td>13.905003</td><td> 9.531613</td><td>13349351 </td><td>96.68023 </td><td>6.60e+10 </td><td>18.64004 </td><td>1.11e+11 </td><td>15.74346 </td><td>7.95     </td><td>86.233   </td><td>27327921 </td></tr>\n",
       "\t<tr><td>1        </td><td>Argentina</td><td>1989     </td><td>2382.561 </td><td>32.12968 </td><td> 0.5     </td><td>0.042334 </td><td>2736690  </td><td>16.011237</td><td>13.058409</td><td>13417468 </td><td>93.52114 </td><td>8.88e+10 </td><td>15.51470 </td><td>6.19e+10 </td><td>19.63780 </td><td>4.92     </td><td>86.613   </td><td>27859735 </td></tr>\n",
       "\t<tr><td>1        </td><td>Argentina</td><td>1990     </td><td>4330.959 </td><td>32.58085 </td><td>-0.6     </td><td>0.487589 </td><td>2736690  </td><td>18.325249</td><td>10.359537</td><td>13631248 </td><td>94.27178 </td><td>9.01e+10 </td><td>13.99698 </td><td>1.20e+11 </td><td>14.99086 </td><td>5.23     </td><td>86.984   </td><td>28389540 </td></tr>\n",
       "\t<tr><td>1        </td><td>Argentina</td><td>1991     </td><td>5730.724 </td><td>33.02855 </td><td>-1.2     </td><td>0.953554 </td><td>2736690  </td><td>20.057398</td><td> 7.675043</td><td>13851438 </td><td>98.40296 </td><td>7.90e+10 </td><td>14.63698 </td><td>1.67e+11 </td><td>13.75305 </td><td>5.44     </td><td>87.328   </td><td>28910601 </td></tr>\n",
       "</tbody>\n",
       "</table>\n"
      ],
      "text/latex": [
       "\\begin{tabular}{r|lllllllllllllllllll}\n",
       " id & country & year & gdp\\_per\\_capita & million\\_population & cpi & exchange\\_rate & land\\_area & tourism\\_expenditure & exports\\_percentage & labor\\_force & national\\_expenditure & capital\\_formulation & cfp & adj\\_national\\_income & trade\\_percentage & unemployment & urban\\_pop\\_percentage & urban\\_pop\\\\\n",
       "\\hline\n",
       "\t 1         & Argentina & 1986      & 3607.821  & 30.75760  & -0.1      & 0.000094  & 2736690   &  9.738351 &  8.161978 &  1281793  & 98.16208  & 5.20e+10  & 17.46176  & 9.75e+10  & 14.48603  & 3.80      & 85.445    & 26272907 \\\\\n",
       "\t 1         & Argentina & 1987      & 3559.219  & 31.21467  &  0.8      & 0.000214  & 2736690   & 11.651680 &  7.873206 & 13075206  & 99.70256  & 5.18e+10  & 19.55487  & 9.69e+10  & 15.44897  & 4.68      & 85.843    & 26797140 \\\\\n",
       "\t 1         & Argentina & 1988      & 3982.444  & 31.67315  &  0.3      & 0.000875  & 2736690   & 13.905003 &  9.531613 & 13349351  & 96.68023  & 6.60e+10  & 18.64004  & 1.11e+11  & 15.74346  & 7.95      & 86.233    & 27327921 \\\\\n",
       "\t 1         & Argentina & 1989      & 2382.561  & 32.12968  &  0.5      & 0.042334  & 2736690   & 16.011237 & 13.058409 & 13417468  & 93.52114  & 8.88e+10  & 15.51470  & 6.19e+10  & 19.63780  & 4.92      & 86.613    & 27859735 \\\\\n",
       "\t 1         & Argentina & 1990      & 4330.959  & 32.58085  & -0.6      & 0.487589  & 2736690   & 18.325249 & 10.359537 & 13631248  & 94.27178  & 9.01e+10  & 13.99698  & 1.20e+11  & 14.99086  & 5.23      & 86.984    & 28389540 \\\\\n",
       "\t 1         & Argentina & 1991      & 5730.724  & 33.02855  & -1.2      & 0.953554  & 2736690   & 20.057398 &  7.675043 & 13851438  & 98.40296  & 7.90e+10  & 14.63698  & 1.67e+11  & 13.75305  & 5.44      & 87.328    & 28910601 \\\\\n",
       "\\end{tabular}\n"
      ],
      "text/markdown": [
       "\n",
       "| id | country | year | gdp_per_capita | million_population | cpi | exchange_rate | land_area | tourism_expenditure | exports_percentage | labor_force | national_expenditure | capital_formulation | cfp | adj_national_income | trade_percentage | unemployment | urban_pop_percentage | urban_pop |\n",
       "|---|---|---|---|---|---|---|---|---|---|---|---|---|---|---|---|---|---|---|\n",
       "| 1         | Argentina | 1986      | 3607.821  | 30.75760  | -0.1      | 0.000094  | 2736690   |  9.738351 |  8.161978 |  1281793  | 98.16208  | 5.20e+10  | 17.46176  | 9.75e+10  | 14.48603  | 3.80      | 85.445    | 26272907  |\n",
       "| 1         | Argentina | 1987      | 3559.219  | 31.21467  |  0.8      | 0.000214  | 2736690   | 11.651680 |  7.873206 | 13075206  | 99.70256  | 5.18e+10  | 19.55487  | 9.69e+10  | 15.44897  | 4.68      | 85.843    | 26797140  |\n",
       "| 1         | Argentina | 1988      | 3982.444  | 31.67315  |  0.3      | 0.000875  | 2736690   | 13.905003 |  9.531613 | 13349351  | 96.68023  | 6.60e+10  | 18.64004  | 1.11e+11  | 15.74346  | 7.95      | 86.233    | 27327921  |\n",
       "| 1         | Argentina | 1989      | 2382.561  | 32.12968  |  0.5      | 0.042334  | 2736690   | 16.011237 | 13.058409 | 13417468  | 93.52114  | 8.88e+10  | 15.51470  | 6.19e+10  | 19.63780  | 4.92      | 86.613    | 27859735  |\n",
       "| 1         | Argentina | 1990      | 4330.959  | 32.58085  | -0.6      | 0.487589  | 2736690   | 18.325249 | 10.359537 | 13631248  | 94.27178  | 9.01e+10  | 13.99698  | 1.20e+11  | 14.99086  | 5.23      | 86.984    | 28389540  |\n",
       "| 1         | Argentina | 1991      | 5730.724  | 33.02855  | -1.2      | 0.953554  | 2736690   | 20.057398 |  7.675043 | 13851438  | 98.40296  | 7.90e+10  | 14.63698  | 1.67e+11  | 13.75305  | 5.44      | 87.328    | 28910601  |\n",
       "\n"
      ],
      "text/plain": [
       "  id country   year gdp_per_capita million_population cpi  exchange_rate\n",
       "1 1  Argentina 1986 3607.821       30.75760           -0.1 0.000094     \n",
       "2 1  Argentina 1987 3559.219       31.21467            0.8 0.000214     \n",
       "3 1  Argentina 1988 3982.444       31.67315            0.3 0.000875     \n",
       "4 1  Argentina 1989 2382.561       32.12968            0.5 0.042334     \n",
       "5 1  Argentina 1990 4330.959       32.58085           -0.6 0.487589     \n",
       "6 1  Argentina 1991 5730.724       33.02855           -1.2 0.953554     \n",
       "  land_area tourism_expenditure exports_percentage labor_force\n",
       "1 2736690    9.738351            8.161978           1281793   \n",
       "2 2736690   11.651680            7.873206          13075206   \n",
       "3 2736690   13.905003            9.531613          13349351   \n",
       "4 2736690   16.011237           13.058409          13417468   \n",
       "5 2736690   18.325249           10.359537          13631248   \n",
       "6 2736690   20.057398            7.675043          13851438   \n",
       "  national_expenditure capital_formulation cfp      adj_national_income\n",
       "1 98.16208             5.20e+10            17.46176 9.75e+10           \n",
       "2 99.70256             5.18e+10            19.55487 9.69e+10           \n",
       "3 96.68023             6.60e+10            18.64004 1.11e+11           \n",
       "4 93.52114             8.88e+10            15.51470 6.19e+10           \n",
       "5 94.27178             9.01e+10            13.99698 1.20e+11           \n",
       "6 98.40296             7.90e+10            14.63698 1.67e+11           \n",
       "  trade_percentage unemployment urban_pop_percentage urban_pop\n",
       "1 14.48603         3.80         85.445               26272907 \n",
       "2 15.44897         4.68         85.843               26797140 \n",
       "3 15.74346         7.95         86.233               27327921 \n",
       "4 19.63780         4.92         86.613               27859735 \n",
       "5 14.99086         5.23         86.984               28389540 \n",
       "6 13.75305         5.44         87.328               28910601 "
      ]
     },
     "metadata": {},
     "output_type": "display_data"
    }
   ],
   "source": [
    "data <- read.csv(\"final.csv\")\n",
    "data$adj_national_income <- as.numeric(data$adj_national_income)\n",
    "# convert country to character\n",
    "data$country <- as.character(data$country)\n",
    "head(data)"
   ]
  },
  {
   "cell_type": "code",
   "execution_count": 39,
   "metadata": {
    "vscode": {
     "languageId": "r"
    }
   },
   "outputs": [],
   "source": [
    "treated_unit <- \"Australia\"\n",
    "control_units <- c(\"Argentina\", \"Brazil\", \"Denmark\", \"Japan\", \"Korea\", \"Malaysia\", \"Mexico\", \"New Zealand\", \"Singapore\",\n",
    "                    \"South Africa\", \"Sweden\", \"Switzerland\", \"United Kingdom\")\n",
    "left_out <- c(\"cfp\", \"urban_pop_percentage\")\n",
    "dataprep.out <- \n",
    "            dataprep(foo = data,\n",
    "            predictors = c(\"million_population\", \"cpi\", \n",
    "                            \"exchange_rate\", \"land_area\", \n",
    "                            \"tourism_expenditure\", \"exports_percentage\", \n",
    "                            \"labor_force\", \"national_expenditure\", \n",
    "                            \"capital_formulation\", \"adj_national_income\", \n",
    "                            \"trade_percentage\", \"unemployment\", \"urban_pop\"),\n",
    "            predictors.op = \"mean\",\n",
    "            time.predictors.prior = 1986:2000,\n",
    "            dependent = \"gdp_per_capita\",\n",
    "            unit.variable = \"id\",\n",
    "            unit.names.variable = \"country\",\n",
    "            time.variable = \"year\",\n",
    "            treatment.identifier = treated_unit,\n",
    "            controls.identifier = control_units,\n",
    "            time.optimize.ssr = 1986:2000,\n",
    "            time.plot = 1986:2005\n",
    ")"
   ]
  },
  {
   "cell_type": "code",
   "execution_count": 40,
   "metadata": {
    "vscode": {
     "languageId": "r"
    }
   },
   "outputs": [
    {
     "name": "stdout",
     "output_type": "stream",
     "text": [
      "\n",
      "X1, X0, Z1, Z0 all come directly from dataprep object.\n",
      "\n",
      "\n",
      "**************** \n",
      " searching for synthetic control unit  \n",
      " \n",
      "\n",
      "**************** \n",
      "**************** \n",
      "**************** \n",
      "\n",
      "MSPE (LOSS V): 3222359 \n",
      "\n",
      "solution.v:\n",
      " 0.073986 0.06775261 0.01429096 1.7186e-06 0.3630886 0.000482 0.004180713 0.3334852 0.0835402 0.000800805 0.0006780671 2e-09 0.05771303 \n",
      "\n",
      "solution.w:\n",
      " 0.002171736 0.001671174 0.003092406 0.001947963 0.006259084 0.003055172 0.00285659 0.5419349 0.001990451 0.004279422 0.007583261 0.01212482 0.411033 \n",
      "\n"
     ]
    },
    {
     "data": {
      "text/html": [
       "<table>\n",
       "<thead><tr><th></th><th scope=col>w.weights</th><th scope=col>unit.names</th><th scope=col>unit.numbers</th></tr></thead>\n",
       "<tbody>\n",
       "\t<tr><th scope=row>1</th><td>0.002         </td><td>Argentina     </td><td> 1            </td></tr>\n",
       "\t<tr><th scope=row>3</th><td>0.002         </td><td>Brazil        </td><td> 3            </td></tr>\n",
       "\t<tr><th scope=row>4</th><td>0.003         </td><td>Denmark       </td><td> 4            </td></tr>\n",
       "\t<tr><th scope=row>5</th><td>0.002         </td><td>Japan         </td><td> 5            </td></tr>\n",
       "\t<tr><th scope=row>6</th><td>0.006         </td><td>Korea         </td><td> 6            </td></tr>\n",
       "\t<tr><th scope=row>7</th><td>0.003         </td><td>Malaysia      </td><td> 7            </td></tr>\n",
       "\t<tr><th scope=row>8</th><td>0.003         </td><td>Mexico        </td><td> 8            </td></tr>\n",
       "\t<tr><th scope=row>9</th><td>0.542         </td><td>New Zealand   </td><td> 9            </td></tr>\n",
       "\t<tr><th scope=row>10</th><td>0.002         </td><td>Singapore     </td><td>10            </td></tr>\n",
       "\t<tr><th scope=row>11</th><td>0.004         </td><td>South Africa  </td><td>11            </td></tr>\n",
       "\t<tr><th scope=row>12</th><td>0.008         </td><td>Sweden        </td><td>12            </td></tr>\n",
       "\t<tr><th scope=row>13</th><td>0.012         </td><td>Switzerland   </td><td>13            </td></tr>\n",
       "\t<tr><th scope=row>14</th><td>0.411         </td><td>United Kingdom</td><td>14            </td></tr>\n",
       "</tbody>\n",
       "</table>\n"
      ],
      "text/latex": [
       "\\begin{tabular}{r|lll}\n",
       "  & w.weights & unit.names & unit.numbers\\\\\n",
       "\\hline\n",
       "\t1 & 0.002          & Argentina      &  1            \\\\\n",
       "\t3 & 0.002          & Brazil         &  3            \\\\\n",
       "\t4 & 0.003          & Denmark        &  4            \\\\\n",
       "\t5 & 0.002          & Japan          &  5            \\\\\n",
       "\t6 & 0.006          & Korea          &  6            \\\\\n",
       "\t7 & 0.003          & Malaysia       &  7            \\\\\n",
       "\t8 & 0.003          & Mexico         &  8            \\\\\n",
       "\t9 & 0.542          & New Zealand    &  9            \\\\\n",
       "\t10 & 0.002          & Singapore      & 10            \\\\\n",
       "\t11 & 0.004          & South Africa   & 11            \\\\\n",
       "\t12 & 0.008          & Sweden         & 12            \\\\\n",
       "\t13 & 0.012          & Switzerland    & 13            \\\\\n",
       "\t14 & 0.411          & United Kingdom & 14            \\\\\n",
       "\\end{tabular}\n"
      ],
      "text/markdown": [
       "\n",
       "| <!--/--> | w.weights | unit.names | unit.numbers |\n",
       "|---|---|---|---|\n",
       "| 1 | 0.002          | Argentina      |  1             |\n",
       "| 3 | 0.002          | Brazil         |  3             |\n",
       "| 4 | 0.003          | Denmark        |  4             |\n",
       "| 5 | 0.002          | Japan          |  5             |\n",
       "| 6 | 0.006          | Korea          |  6             |\n",
       "| 7 | 0.003          | Malaysia       |  7             |\n",
       "| 8 | 0.003          | Mexico         |  8             |\n",
       "| 9 | 0.542          | New Zealand    |  9             |\n",
       "| 10 | 0.002          | Singapore      | 10             |\n",
       "| 11 | 0.004          | South Africa   | 11             |\n",
       "| 12 | 0.008          | Sweden         | 12             |\n",
       "| 13 | 0.012          | Switzerland    | 13             |\n",
       "| 14 | 0.411          | United Kingdom | 14             |\n",
       "\n"
      ],
      "text/plain": [
       "   w.weights unit.names     unit.numbers\n",
       "1  0.002     Argentina       1          \n",
       "3  0.002     Brazil          3          \n",
       "4  0.003     Denmark         4          \n",
       "5  0.002     Japan           5          \n",
       "6  0.006     Korea           6          \n",
       "7  0.003     Malaysia        7          \n",
       "8  0.003     Mexico          8          \n",
       "9  0.542     New Zealand     9          \n",
       "10 0.002     Singapore      10          \n",
       "11 0.004     South Africa   11          \n",
       "12 0.008     Sweden         12          \n",
       "13 0.012     Switzerland    13          \n",
       "14 0.411     United Kingdom 14          "
      ]
     },
     "metadata": {},
     "output_type": "display_data"
    }
   ],
   "source": [
    "synth.out <- synth(data.prep.obj = dataprep.out)\n",
    "synth.tables <- synth.tab(dataprep.res = dataprep.out, synth.res = synth.out)\n",
    "synth.tables$tab.w"
   ]
  },
  {
   "cell_type": "code",
   "execution_count": 41,
   "metadata": {
    "vscode": {
     "languageId": "r"
    }
   },
   "outputs": [
    {
     "data": {
      "text/html": [
       "<table>\n",
       "<thead><tr><th></th><th scope=col>Treated</th><th scope=col>Synthetic</th><th scope=col>Sample Mean</th></tr></thead>\n",
       "<tbody>\n",
       "\t<tr><th scope=row>million_population</th><td>1.760000e+01</td><td>2.718100e+01</td><td>4.566300e+01</td></tr>\n",
       "\t<tr><th scope=row>cpi</th><td>4.123000e+00</td><td>5.320000e+00</td><td>6.161200e+01</td></tr>\n",
       "\t<tr><th scope=row>exchange_rate</th><td>1.405000e+00</td><td>7.076000e+00</td><td>7.968200e+01</td></tr>\n",
       "\t<tr><th scope=row>land_area</th><td>7.682300e+06</td><td>2.788047e+05</td><td>1.233402e+06</td></tr>\n",
       "\t<tr><th scope=row>tourism_expenditure</th><td>1.003500e+01</td><td>1.018100e+01</td><td>7.584000e+00</td></tr>\n",
       "\t<tr><th scope=row>exports_percentage</th><td>1.719800e+01</td><td>2.769100e+01</td><td>4.024900e+01</td></tr>\n",
       "\t<tr><th scope=row>labor_force</th><td>8.783416e+06</td><td>1.356707e+07</td><td>2.060971e+07</td></tr>\n",
       "\t<tr><th scope=row>national_expenditure</th><td>1.012830e+02</td><td>1.008800e+02</td><td>9.762700e+01</td></tr>\n",
       "\t<tr><th scope=row>capital_formulation</th><td>3.903333e+10</td><td>4.055515e+10</td><td>1.660744e+11</td></tr>\n",
       "\t<tr><th scope=row>adj_national_income</th><td>2.586000e+11</td><td>4.662206e+11</td><td>4.824979e+11</td></tr>\n",
       "\t<tr><th scope=row>trade_percentage</th><td>3.555600e+01</td><td>5.437800e+01</td><td>7.752400e+01</td></tr>\n",
       "\t<tr><th scope=row>unemployment</th><td>8.239000e+00</td><td>7.623000e+00</td><td>6.632000e+00</td></tr>\n",
       "\t<tr><th scope=row>urban_pop</th><td>1.496485e+07</td><td>2.133708e+07</td><td>3.422369e+07</td></tr>\n",
       "</tbody>\n",
       "</table>\n"
      ],
      "text/latex": [
       "\\begin{tabular}{r|lll}\n",
       "  & Treated & Synthetic & Sample Mean\\\\\n",
       "\\hline\n",
       "\tmillion\\_population & 1.760000e+01 & 2.718100e+01 & 4.566300e+01\\\\\n",
       "\tcpi & 4.123000e+00 & 5.320000e+00 & 6.161200e+01\\\\\n",
       "\texchange\\_rate & 1.405000e+00 & 7.076000e+00 & 7.968200e+01\\\\\n",
       "\tland\\_area & 7.682300e+06 & 2.788047e+05 & 1.233402e+06\\\\\n",
       "\ttourism\\_expenditure & 1.003500e+01 & 1.018100e+01 & 7.584000e+00\\\\\n",
       "\texports\\_percentage & 1.719800e+01 & 2.769100e+01 & 4.024900e+01\\\\\n",
       "\tlabor\\_force & 8.783416e+06 & 1.356707e+07 & 2.060971e+07\\\\\n",
       "\tnational\\_expenditure & 1.012830e+02 & 1.008800e+02 & 9.762700e+01\\\\\n",
       "\tcapital\\_formulation & 3.903333e+10 & 4.055515e+10 & 1.660744e+11\\\\\n",
       "\tadj\\_national\\_income & 2.586000e+11 & 4.662206e+11 & 4.824979e+11\\\\\n",
       "\ttrade\\_percentage & 3.555600e+01 & 5.437800e+01 & 7.752400e+01\\\\\n",
       "\tunemployment & 8.239000e+00 & 7.623000e+00 & 6.632000e+00\\\\\n",
       "\turban\\_pop & 1.496485e+07 & 2.133708e+07 & 3.422369e+07\\\\\n",
       "\\end{tabular}\n"
      ],
      "text/markdown": [
       "\n",
       "| <!--/--> | Treated | Synthetic | Sample Mean |\n",
       "|---|---|---|---|\n",
       "| million_population | 1.760000e+01 | 2.718100e+01 | 4.566300e+01 |\n",
       "| cpi | 4.123000e+00 | 5.320000e+00 | 6.161200e+01 |\n",
       "| exchange_rate | 1.405000e+00 | 7.076000e+00 | 7.968200e+01 |\n",
       "| land_area | 7.682300e+06 | 2.788047e+05 | 1.233402e+06 |\n",
       "| tourism_expenditure | 1.003500e+01 | 1.018100e+01 | 7.584000e+00 |\n",
       "| exports_percentage | 1.719800e+01 | 2.769100e+01 | 4.024900e+01 |\n",
       "| labor_force | 8.783416e+06 | 1.356707e+07 | 2.060971e+07 |\n",
       "| national_expenditure | 1.012830e+02 | 1.008800e+02 | 9.762700e+01 |\n",
       "| capital_formulation | 3.903333e+10 | 4.055515e+10 | 1.660744e+11 |\n",
       "| adj_national_income | 2.586000e+11 | 4.662206e+11 | 4.824979e+11 |\n",
       "| trade_percentage | 3.555600e+01 | 5.437800e+01 | 7.752400e+01 |\n",
       "| unemployment | 8.239000e+00 | 7.623000e+00 | 6.632000e+00 |\n",
       "| urban_pop | 1.496485e+07 | 2.133708e+07 | 3.422369e+07 |\n",
       "\n"
      ],
      "text/plain": [
       "                     Treated      Synthetic    Sample Mean \n",
       "million_population   1.760000e+01 2.718100e+01 4.566300e+01\n",
       "cpi                  4.123000e+00 5.320000e+00 6.161200e+01\n",
       "exchange_rate        1.405000e+00 7.076000e+00 7.968200e+01\n",
       "land_area            7.682300e+06 2.788047e+05 1.233402e+06\n",
       "tourism_expenditure  1.003500e+01 1.018100e+01 7.584000e+00\n",
       "exports_percentage   1.719800e+01 2.769100e+01 4.024900e+01\n",
       "labor_force          8.783416e+06 1.356707e+07 2.060971e+07\n",
       "national_expenditure 1.012830e+02 1.008800e+02 9.762700e+01\n",
       "capital_formulation  3.903333e+10 4.055515e+10 1.660744e+11\n",
       "adj_national_income  2.586000e+11 4.662206e+11 4.824979e+11\n",
       "trade_percentage     3.555600e+01 5.437800e+01 7.752400e+01\n",
       "unemployment         8.239000e+00 7.623000e+00 6.632000e+00\n",
       "urban_pop            1.496485e+07 2.133708e+07 3.422369e+07"
      ]
     },
     "metadata": {},
     "output_type": "display_data"
    }
   ],
   "source": [
    "synth.tables$tab.pred"
   ]
  },
  {
   "cell_type": "code",
   "execution_count": 42,
   "metadata": {
    "vscode": {
     "languageId": "r"
    }
   },
   "outputs": [
    {
     "data": {
      "image/png": "[encoded data removed]",
      "text/plain": [
       "Plot with title \"NA\""
      ]
     },
     "metadata": {},
     "output_type": "display_data"
    }
   ],
   "source": [
    "path.plot(synth.res = synth.out,\n",
    "        dataprep.res = dataprep.out,\n",
    "        Ylab = \"GDP per capita\",\n",
    "        Xlab = \"Year\",\n",
    "        Legend = c(\"Australia\", \"Synthetic Australia\"),\n",
    "        Legend.position = \"bottomright\"\n",
    ")\n",
    "\n",
    "abline(v = 2000, lty = 2, col = \"red\")"
   ]
  },
  {
   "cell_type": "code",
   "execution_count": 43,
   "metadata": {
    "vscode": {
     "languageId": "r"
    }
   },
   "outputs": [
    {
     "data": {
      "image/png": "[encoded data removed]",
      "text/plain": [
       "Plot with title \"Gaps: Treated - Synthetic\""
      ]
     },
     "metadata": {},
     "output_type": "display_data"
    }
   ],
   "source": [
    "gaps.plot(synth.res = synth.out,\n",
    "        dataprep.res = dataprep.out,\n",
    "        Ylab = \"GDP per capita\",\n",
    "        Xlab = \"Year\"\n",
    "        )"
   ]
  },
  {
   "cell_type": "code",
   "execution_count": 44,
   "metadata": {
    "vscode": {
     "languageId": "r"
    }
   },
   "outputs": [
    {
     "data": {
      "text/html": [
       "<table>\n",
       "<thead><tr><th></th><th scope=col>v.weights</th></tr></thead>\n",
       "<tbody>\n",
       "\t<tr><th scope=row>million_population</th><td>0.074</td></tr>\n",
       "\t<tr><th scope=row>cpi</th><td>0.068</td></tr>\n",
       "\t<tr><th scope=row>exchange_rate</th><td>0.014</td></tr>\n",
       "\t<tr><th scope=row>land_area</th><td>0</td></tr>\n",
       "\t<tr><th scope=row>tourism_expenditure</th><td>0.363</td></tr>\n",
       "\t<tr><th scope=row>exports_percentage</th><td>0</td></tr>\n",
       "\t<tr><th scope=row>labor_force</th><td>0.004</td></tr>\n",
       "\t<tr><th scope=row>national_expenditure</th><td>0.333</td></tr>\n",
       "\t<tr><th scope=row>capital_formulation</th><td>0.084</td></tr>\n",
       "\t<tr><th scope=row>adj_national_income</th><td>0.001</td></tr>\n",
       "\t<tr><th scope=row>trade_percentage</th><td>0.001</td></tr>\n",
       "\t<tr><th scope=row>unemployment</th><td>0</td></tr>\n",
       "\t<tr><th scope=row>urban_pop</th><td>0.058</td></tr>\n",
       "</tbody>\n",
       "</table>\n"
      ],
      "text/latex": [
       "\\begin{tabular}{r|l}\n",
       "  & v.weights\\\\\n",
       "\\hline\n",
       "\tmillion\\_population & 0.074\\\\\n",
       "\tcpi & 0.068\\\\\n",
       "\texchange\\_rate & 0.014\\\\\n",
       "\tland\\_area & 0\\\\\n",
       "\ttourism\\_expenditure & 0.363\\\\\n",
       "\texports\\_percentage & 0\\\\\n",
       "\tlabor\\_force & 0.004\\\\\n",
       "\tnational\\_expenditure & 0.333\\\\\n",
       "\tcapital\\_formulation & 0.084\\\\\n",
       "\tadj\\_national\\_income & 0.001\\\\\n",
       "\ttrade\\_percentage & 0.001\\\\\n",
       "\tunemployment & 0\\\\\n",
       "\turban\\_pop & 0.058\\\\\n",
       "\\end{tabular}\n"
      ],
      "text/markdown": [
       "\n",
       "| <!--/--> | v.weights |\n",
       "|---|---|\n",
       "| million_population | 0.074 |\n",
       "| cpi | 0.068 |\n",
       "| exchange_rate | 0.014 |\n",
       "| land_area | 0 |\n",
       "| tourism_expenditure | 0.363 |\n",
       "| exports_percentage | 0 |\n",
       "| labor_force | 0.004 |\n",
       "| national_expenditure | 0.333 |\n",
       "| capital_formulation | 0.084 |\n",
       "| adj_national_income | 0.001 |\n",
       "| trade_percentage | 0.001 |\n",
       "| unemployment | 0 |\n",
       "| urban_pop | 0.058 |\n",
       "\n"
      ],
      "text/plain": [
       "                     v.weights\n",
       "million_population   0.074    \n",
       "cpi                  0.068    \n",
       "exchange_rate        0.014    \n",
       "land_area            0        \n",
       "tourism_expenditure  0.363    \n",
       "exports_percentage   0        \n",
       "labor_force          0.004    \n",
       "national_expenditure 0.333    \n",
       "capital_formulation  0.084    \n",
       "adj_national_income  0.001    \n",
       "trade_percentage     0.001    \n",
       "unemployment         0        \n",
       "urban_pop            0.058    "
      ]
     },
     "metadata": {},
     "output_type": "display_data"
    }
   ],
   "source": [
    "synth.tables$tab.v"
   ]
  },
  {
   "cell_type": "code",
   "execution_count": 45,
   "metadata": {
    "vscode": {
     "languageId": "r"
    }
   },
   "outputs": [
    {
     "data": {
      "text/html": [
       "<ol class=list-inline>\n",
       "\t<li>1787.73056015159</li>\n",
       "\t<li>-329.012873689109</li>\n",
       "\t<li>-2309.32785326789</li>\n",
       "\t<li>-3630.09563444855</li>\n",
       "\t<li>-1012.55854049394</li>\n",
       "\t<li>581.610363189131</li>\n",
       "</ol>\n"
      ],
      "text/latex": [
       "\\begin{enumerate*}\n",
       "\\item 1787.73056015159\n",
       "\\item -329.012873689109\n",
       "\\item -2309.32785326789\n",
       "\\item -3630.09563444855\n",
       "\\item -1012.55854049394\n",
       "\\item 581.610363189131\n",
       "\\end{enumerate*}\n"
      ],
      "text/markdown": [
       "1. 1787.73056015159\n",
       "2. -329.012873689109\n",
       "3. -2309.32785326789\n",
       "4. -3630.09563444855\n",
       "5. -1012.55854049394\n",
       "6. 581.610363189131\n",
       "\n",
       "\n"
      ],
      "text/plain": [
       "[1]  1787.7306  -329.0129 -2309.3279 -3630.0956 -1012.5585   581.6104"
      ]
     },
     "metadata": {},
     "output_type": "display_data"
    }
   ],
   "source": [
    "gaps <- (dataprep.out$Y1plot - (dataprep.out$Y0plot%*%synth.out$solution.w))\n",
    "gaps[15:20]"
   ]
  },
  {
   "cell_type": "code",
   "execution_count": 46,
   "metadata": {
    "vscode": {
     "languageId": "r"
    }
   },
   "outputs": [
    {
     "name": "stdout",
     "output_type": "stream",
     "text": [
      "\n",
      "X1, X0, Z1, Z0 all come directly from dataprep object.\n",
      "\n",
      "\n",
      "**************** \n",
      " searching for synthetic control unit  \n",
      " \n",
      "\n",
      "**************** \n",
      "**************** \n",
      "**************** \n",
      "\n",
      "MSPE (LOSS V): 8104139 \n",
      "\n",
      "solution.v:\n",
      " 0.05882566 0.05160547 0.05621026 0.2156772 0.1717481 0.05694282 0.02818695 0.0008270135 0.0001857697 0.1395072 0.02692375 0.1170095 0.07635038 \n",
      "\n",
      "solution.w:\n",
      " 0.139137 8.262e-07 0.3029035 2.8305e-06 0.0001008829 1.3745e-06 1.2762e-06 0.1167047 8.857e-07 1.0861e-06 0.4181999 0.02294569 \n",
      "\n"
     ]
    },
    {
     "data": {
      "image/png": "[encoded data removed]",
      "text/plain": [
       "Plot with title \"NA\""
      ]
     },
     "metadata": {},
     "output_type": "display_data"
    }
   ],
   "source": [
    "# In place placebo\n",
    "treated_unit <- \"Sweden\"\n",
    "control_units <- c(\"Argentina\",\"Brazil\", \"Denmark\", \"Japan\", \"Korea\", \"Malaysia\",  \"Mexico\", \"New Zealand\", \"Singapore\",\"South Africa\", \"Switzerland\", \"United Kingdom\")\n",
    "dataprep.out.sweden <-\n",
    "    dataprep(foo = data,\n",
    "             predictors = c(\"million_population\", \"cpi\", \"exchange_rate\",\n",
    "                            \"land_area\", \"tourism_expenditure\", \"exports_percentage\", \"labor_force\", \n",
    "                            \"national_expenditure\", \"capital_formulation\", \n",
    "                            \"adj_national_income\", \"trade_percentage\", \"unemployment\", \"urban_pop\") ,\n",
    "             predictors.op = \"mean\" ,\n",
    "             time.predictors.prior = 1986:2000 ,\n",
    "             dependent = \"gdp_per_capita\",\n",
    "             unit.variable = \"id\",\n",
    "             unit.names.variable = \"country\",\n",
    "             time.variable = \"year\",\n",
    "             treatment.identifier = treated_unit,\n",
    "             controls.identifier = control_units,\n",
    "             time.optimize.ssr = 1986:2000,\n",
    "             time.plot = 1986:2005\n",
    "    )\n",
    "synth.out.sweden <- synth(data.prep.obj = dataprep.out.sweden)\n",
    "path.plot(synth.res = synth.out.sweden,\n",
    "          dataprep.res = dataprep.out.sweden,\n",
    "          Ylab = \"GDP per capita\",\n",
    "          Xlab = \"Year\",\n",
    "          Legend = c(\"Sweden\",\"synthetic Sweden\"),\n",
    "          Legend.position = \"bottomright\"\n",
    ")\n",
    "# Add line for year = 2000 in the plot\n",
    "abline(v = 2000, lty = 2, col = \"red\")"
   ]
  },
  {
   "cell_type": "code",
   "execution_count": 47,
   "metadata": {
    "vscode": {
     "languageId": "r"
    }
   },
   "outputs": [
    {
     "name": "stdout",
     "output_type": "stream",
     "text": [
      "\n",
      "X1, X0, Z1, Z0 all come directly from dataprep object.\n",
      "\n",
      "\n",
      "**************** \n",
      " searching for synthetic control unit  \n",
      " \n",
      "\n",
      "**************** \n",
      "**************** \n",
      "**************** \n",
      "\n",
      "MSPE (LOSS V): 1105618 \n",
      "\n",
      "solution.v:\n",
      " 0.0002838745 0.01261538 9.72029e-05 2.97127e-05 0.6903797 0.005303075 2.9044e-05 0.09848844 0.003018549 0.0003204612 0.00911728 0.1570046 0.0233127 \n",
      "\n",
      "solution.w:\n",
      " 0.002019083 0.003213614 0.002879625 0.002595317 0.08692134 5.4228e-06 0.009729052 0.128176 0.001452204 0.1614679 0.3312425 0.001253788 0.2690441 \n",
      "\n"
     ]
    },
    {
     "data": {
      "image/png": "[encoded data removed]",
      "text/plain": [
       "Plot with title \"NA\""
      ]
     },
     "metadata": {},
     "output_type": "display_data"
    }
   ],
   "source": [
    "# In time placebo\n",
    "treated_unit <- \"Australia\"\n",
    "control_units <- c(\"Argentina\",\"Brazil\", \"Denmark\", \"Japan\", \"Korea\", \"Malaysia\",  \"Mexico\", \"New Zealand\", \"Singapore\", \"South Africa\", \"Sweden\", \"Switzerland\", \"United Kingdom\")\n",
    "dataprep.out.1995 <-\n",
    "    dataprep(foo = data,\n",
    "             predictors = c(\"million_population\", \"cpi\", \"exchange_rate\",\n",
    "                            \"land_area\", \"tourism_expenditure\", \"exports_percentage\", \"labor_force\", \n",
    "                            \"national_expenditure\", \"capital_formulation\", \n",
    "                            \"adj_national_income\", \"trade_percentage\", \"unemployment\", \"urban_pop\") ,\n",
    "             predictors.op = \"mean\" ,\n",
    "             time.predictors.prior = 1986:1995 ,\n",
    "             dependent = \"gdp_per_capita\",\n",
    "             unit.variable = \"id\",\n",
    "             unit.names.variable = \"country\",\n",
    "             time.variable = \"year\",\n",
    "             treatment.identifier = treated_unit,\n",
    "             controls.identifier = control_units,\n",
    "             time.optimize.ssr = 1986:1995,\n",
    "             time.plot = 1986:2000\n",
    "    )\n",
    "synth.out.1995 <- synth(data.prep.obj = dataprep.out.1995)\n",
    "path.plot(synth.res = synth.out.1995,\n",
    "          dataprep.res = dataprep.out.1995,\n",
    "          Ylab = \"GDP per capita\",\n",
    "          Xlab = \"Year\",\n",
    "          Legend = c(\"Australia\",\"synthetic Australia\"),\n",
    "          Legend.position = \"bottomright\"\n",
    ")\n",
    "# Add line for year = 2000 in the plot\n",
    "abline(v = 1995, lty = 2, col = \"red\")"
   ]
  }
 ],
 "metadata": {
  "kernelspec": {
   "display_name": "R",
   "language": "R",
   "name": "ir"
  },
  "language_info": {
   "codemirror_mode": "r",
   "file_extension": ".r",
   "mimetype": "text/x-r-source",
   "name": "R",
   "pygments_lexer": "r",
   "version": "3.6.1"
  }
 },
 "nbformat": 4,
 "nbformat_minor": 2
}
